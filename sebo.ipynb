{
  "metadata": {
    "dataExplorerConfig": {},
    "bento_stylesheets": {
      "bento/extensions/flow/main.css": true,
      "bento/extensions/kernel_selector/main.css": true,
      "bento/extensions/kernel_ui/main.css": true,
      "bento/extensions/new_kernel/main.css": true,
      "bento/extensions/system_usage/main.css": true,
      "bento/extensions/theme/main.css": true
    },
    "kernelspec": {
      "display_name": "Python 3",
      "language": "python",
      "name": "bento_kernel_default",
      "cinder_runtime": true,
      "ipyflow_runtime": false,
      "metadata": {
        "kernel_name": "bento_kernel_default",
        "nightly_builds": true,
        "fbpkg_supported": true,
        "cinder_runtime": true,
        "ipyflow_runtime": false,
        "is_prebuilt": true
      }
    },
    "language_info": {
      "codemirror_mode": {
        "name": "ipython",
        "version": 3
      },
      "file_extension": ".py",
      "mimetype": "text/x-python",
      "name": "python",
      "nbconvert_exporter": "python",
      "pygments_lexer": "ipython3"
    },
    "last_server_session_id": "aac52e5a-b3e5-47dc-a666-4038e26a24f6",
    "last_kernel_id": "a24b91bd-b24c-46f8-b9de-4c7478b0e31e",
    "last_base_url": "https://devvm15546.prn0.facebook.com:8090/",
    "last_msg_id": "98792b98-9feb65bb4b5b9e7a3f9805eb_68",
    "captumWidgetMessage": {},
    "outputWidgetContext": {}
  },
  "nbformat": 4,
  "nbformat_minor": 2,
  "cells": [
    {
      "cell_type": "markdown",
      "metadata": {
        "collapsed": true,
        "originalKey": "d3a0136e-94fa-477c-a839-20e5b7f1cdd2",
        "showInput": false,
        "customInput": null
      },
      "source": [
        "# Sparsity Exploration Bayesian Optimization (SEBO) Ax API \n",
        "\n",
        "This tutorial introduces the Sparsity Exploration Bayesian Optimization (SEBO) method and demonstrates how to utilize it using the Ax API. SEBO is designed to enhance Bayesian Optimization (BO) by taking the interpretability and simplicity of configurations into consideration. In essence, SEBO incorporates sparsity, modeled as the $L_0$ norm, as an additional objective in BO. By employing multi-objective optimization techniques such as Expected Hyper-Volume Improvement, SEBO enables the joint optimization of objectives while simultaneously incorporating feature-level sparsity. This allows users to efficiently explore different trade-offs between objectives and sparsity.\n",
        "\n",
        "\n",
        "For a more detailed understanding of the SEBO algorithm, please refer to the following publication:\n",
        "\n",
        "[1] [S. Liu, Q. Feng, D. Eriksson, B. Letham and E. Bakshy. Sparse Bayesian Optimization. International Conference on Artificial Intelligence and Statistics, 2023.](https://proceedings.mlr.press/v206/liu23b/liu23b.pdf)\n",
        "\n",
        "By following this tutorial, you will learn how to leverage the SEBO method through the Ax API, empowering you to effectively balance objectives and sparsity in your optimization tasks. Let's get started!"
      ],
      "attachments": {}
    },
    {
      "cell_type": "code",
      "metadata": {
        "originalKey": "ac771f66-a15a-4d4c-96db-4ca7b71a9ace",
        "showInput": true,
        "collapsed": false,
        "requestMsgId": "1faf8ebd-2011-42f6-8323-7734e149f914",
        "executionStartTime": 1687393542267,
        "executionStopTime": 1687393545888,
        "customOutput": null
      },
      "source": [
        "import os\n",
        "\n",
        "from ax import Data, Experiment, ParameterType, RangeParameter, SearchSpace\n",
        "from ax.modelbridge.registry import Models\n",
        "from ax.runners.synthetic import SyntheticRunner\n",
        "\n",
        "import warnings\n",
        "warnings.filterwarnings('ignore')"
      ],
      "execution_count": 0,
      "outputs": []
    },
    {
      "cell_type": "code",
      "metadata": {
        "originalKey": "b1bc53be-07ad-4497-8bd1-5cf820201fbe",
        "showInput": true,
        "customInput": null,
        "collapsed": false,
        "requestMsgId": "b1bc53be-07ad-4497-8bd1-5cf820201fbe",
        "executionStartTime": 1686279744632,
        "executionStopTime": 1686279744642,
        "customOutput": null
      },
      "source": [
        "SMOKE_TEST = os.environ.get(\"SMOKE_TEST\")"
      ],
      "execution_count": 3,
      "outputs": []
    },
    {
      "cell_type": "code",
      "metadata": {
        "originalKey": "da027fc2-3126-43e8-b7d6-6ce2d04f96a7",
        "showInput": true,
        "customInput": null,
        "collapsed": false,
        "requestMsgId": "da027fc2-3126-43e8-b7d6-6ce2d04f96a7",
        "executionStartTime": 1686279744647,
        "executionStopTime": 1686279744658,
        "customOutput": null
      },
      "source": [
        "import torch\n",
        "\n",
        "\n",
        "torch.manual_seed(12345)  # To always get the same Sobol points\n",
        "tkwargs = {\n",
        "    \"dtype\": torch.double,\n",
        "    \"device\": torch.device(\"cuda\" if torch.cuda.is_available() else \"cpu\"),\n",
        "}"
      ],
      "execution_count": 4,
      "outputs": []
    },
    {
      "cell_type": "markdown",
      "metadata": {
        "originalKey": "c8a27a2f-1120-4894-9302-48bfde402268",
        "showInput": false,
        "customInput": null
      },
      "source": [
        "# Problem Setup \n",
        "\n",
        "In this simple experiment we use the Branin function embedded in a 10-dimensional space. Additional resources:\n",
        "- To set up a custom metric for your problem, refer to the dedicated section of the Developer API tutorial: https://ax.dev/tutorials/gpei_hartmann_developer.html#8.-Defining-custom-metrics.\n",
        "- To avoid needing to setup up custom metrics by Ax Service API: https://ax.dev/tutorials/gpei_hartmann_service.html."
      ],
      "attachments": {}
    },
    {
      "cell_type": "code",
      "metadata": {
        "originalKey": "d9dc2cb0-9f0a-4343-91af-f8cae2371d4e",
        "showInput": true,
        "customInput": null,
        "collapsed": false,
        "requestMsgId": "d9dc2cb0-9f0a-4343-91af-f8cae2371d4e",
        "executionStartTime": 1686279751405,
        "executionStopTime": 1686279751416,
        "customOutput": null
      },
      "source": [
        "import math \n",
        "import numpy as np\n",
        "from ax.core.objective import Objective\n",
        "from ax.core.optimization_config import OptimizationConfig\n",
        "from ax.metrics.noisy_function import NoisyFunctionMetric\n",
        "from ax import Metric\n",
        "from ax.utils.common.typeutils import checked_cast\n",
        "\n",
        "\n",
        "aug_dim = 8 \n",
        "\n",
        "search_space = SearchSpace(\n",
        "    parameters=[\n",
        "        RangeParameter(\n",
        "            name=f\"x{i}\",\n",
        "            parameter_type=ParameterType.FLOAT, \n",
        "            lower=0.0, upper=1.0\n",
        "        )\n",
        "        for i in range(aug_dim)\n",
        "    ]\n",
        ")\n",
        "\n",
        "def branin_augment(x_vec, augment_dim):\n",
        "    assert len(x_vec) == augment_dim\n",
        "    x1, x2 = (\n",
        "        15 * x_vec[0] - 5,\n",
        "        15 * x_vec[1],\n",
        "    )  # Only dimensions 0 and augment_dim-1 affect the value of the function\n",
        "    t1 = x2 - 5.1 / (4 * math.pi**2) * x1**2 + 5 / math.pi * x1 - 6\n",
        "    t2 = 10 * (1 - 1 / (8 * math.pi)) * np.cos(x1)\n",
        "    return t1**2 + t2 + 10\n",
        "\n",
        "\n",
        "class AugBraninMetric(NoisyFunctionMetric):\n",
        "    def f(self, x: np.ndarray) -> float:\n",
        "        return checked_cast(float, branin_augment(x_vec=x, augment_dim=aug_dim))"
      ],
      "execution_count": 6,
      "outputs": []
    },
    {
      "cell_type": "code",
      "metadata": {
        "originalKey": "0846b048-037b-4cfb-8697-f7f873a3b256",
        "showInput": true,
        "customInput": null
      },
      "source": [
        "# Create optimization goals \n",
        "optimization_config = OptimizationConfig(\n",
        "    objective=Objective(\n",
        "        metric=AugBraninMetric(\n",
        "            name=\"objective\",\n",
        "            param_names=[f\"x{i}\" for i in range(aug_dim)],\n",
        "            noise_sd=0.01,  # Set noise_sd=None if you want to learn the noise, otherwise it defaults to 1e-6\n",
        "        ),\n",
        "        minimize=True,\n",
        "    )\n",
        ")\n",
        "\n",
        "# Experiment\n",
        "experiment = Experiment(\n",
        "    name=\"sebo_experiment\",\n",
        "    search_space=search_space,\n",
        "    optimization_config=optimization_config,\n",
        "    runner=SyntheticRunner(),\n",
        ")\n",
        "\n",
        "# target sparse point to regularize towards to. Here we set target sparse value being zero for all the parameters. \n",
        "target_point = torch.tensor([0 for _ in range(aug_dim)], **tkwargs)"
      ],
      "execution_count": null,
      "outputs": []
    },
    {
      "cell_type": "markdown",
      "metadata": {
        "originalKey": "e57edb00-eafc-4d07-bdb9-e8cf073b4caa",
        "showInput": false,
        "customInput": null
      },
      "source": [
        "# Benchmark "
      ],
      "attachments": {}
    },
    {
      "cell_type": "code",
      "metadata": {
        "originalKey": "497fc538-a76e-4b8f-ae41-245abe8feb46",
        "showInput": true,
        "customInput": null,
        "collapsed": false,
        "requestMsgId": "497fc538-a76e-4b8f-ae41-245abe8feb46",
        "executionStartTime": 1686279755092,
        "executionStopTime": 1686279755097,
        "customOutput": null
      },
      "source": [
        "import torch \n",
        "from ax.models.torch.botorch_modular.surrogate import Surrogate\n",
        "from botorch.models import FixedNoiseGP, SaasFullyBayesianSingleTaskGP\n",
        "from ax.fb.models.torch.botorch_modular.sebo import SEBOAcquisition\n",
        "from botorch.acquisition.multi_objective import qNoisyExpectedHypervolumeImprovement"
      ],
      "execution_count": 7,
      "outputs": []
    },
    {
      "cell_type": "code",
      "metadata": {
        "originalKey": "71ba95f8-0371-479c-9d8b-a8b946de6091",
        "showInput": true,
        "customInput": null,
        "collapsed": false,
        "requestMsgId": "71ba95f8-0371-479c-9d8b-a8b946de6091",
        "executionStartTime": 1686279761717,
        "executionStopTime": 1686279761723,
        "customOutput": null
      },
      "source": [
        "N_INIT = 10\n",
        "BATCH_SIZE = 1\n",
        "\n",
        "if SMOKE_TEST:\n",
        "    N_BATCHES = 1\n",
        "else:\n",
        "    N_BATCHES = 40\n",
        "\n",
        "print(f\"Doing {N_INIT + N_BATCHES * BATCH_SIZE} evaluations\")"
      ],
      "execution_count": 8,
      "outputs": [
        {
          "output_type": "stream",
          "name": "stdout",
          "text": [
            "Doing 50 evaluations\n"
          ]
        }
      ]
    },
    {
      "cell_type": "code",
      "metadata": {
        "originalKey": "b260d85f-2797-44e3-840a-86587534b589",
        "showInput": true,
        "customInput": null,
        "collapsed": false,
        "requestMsgId": "b260d85f-2797-44e3-840a-86587534b589",
        "executionStartTime": 1686279763728,
        "executionStopTime": 1686279763733,
        "customOutput": null
      },
      "source": [
        "# Initial Sobol points\n",
        "sobol = Models.SOBOL(search_space=experiment.search_space)\n",
        "for _ in range(N_INIT):\n",
        "    experiment.new_trial(sobol.gen(1)).run()"
      ],
      "execution_count": 9,
      "outputs": []
    },
    {
      "cell_type": "code",
      "metadata": {
        "originalKey": "7c198035-add2-4717-be27-4fb67c4d1782",
        "showInput": true,
        "customInput": null,
        "collapsed": false,
        "requestMsgId": "7c198035-add2-4717-be27-4fb67c4d1782",
        "executionStartTime": 1686279765732,
        "executionStopTime": 1686285202795,
        "customOutput": null
      },
      "source": [
        "data = experiment.fetch_data()\n",
        "\n",
        "for i in range(N_BATCHES):\n",
        "\n",
        "    model = Models.BOTORCH_MODULAR(\n",
        "        experiment=experiment, \n",
        "        data=data,\n",
        "        surrogate=Surrogate(botorch_model_class=SaasFullyBayesianSingleTaskGP),  # can use SAASGP (i.e. SaasFullyBayesianSingleTaskGP) for high-dim cases\n",
        "        search_space=experiment.search_space,\n",
        "        botorch_acqf_class=qNoisyExpectedHypervolumeImprovement,\n",
        "        acquisition_class=SEBOAcquisition,\n",
        "        acquisition_options={\n",
        "            \"penalty\": \"L0_norm\", # it can be L0_norm or L1_norm. \n",
        "            \"target_point\": target_point, \n",
        "            \"sparsity_threshold\": aug_dim,\n",
        "        },\n",
        "        torch_device=tkwargs['device'],\n",
        "    )\n",
        "\n",
        "    generator_run = model.gen(BATCH_SIZE)\n",
        "    trial = experiment.new_batch_trial(generator_run=generator_run)\n",
        "    trial.run()\n",
        "\n",
        "    new_data = trial.fetch_data(metrics=list(experiment.metrics.values()))\n",
        "    data = Data.from_multiple_data([data, new_data])\n",
        "    print(f\"Iteration: {i}, Best so far: {data.df['mean'].min():.3f}\")"
      ],
      "execution_count": 10,
      "outputs": [
        {
          "output_type": "stream",
          "name": "stdout",
          "text": [
            "Iteration: 0, Best so far: 2.495\n"
          ]
        },
        {
          "output_type": "stream",
          "name": "stdout",
          "text": [
            "Iteration: 1, Best so far: 2.495\n"
          ]
        },
        {
          "output_type": "stream",
          "name": "stdout",
          "text": [
            "Iteration: 2, Best so far: 2.495\n"
          ]
        },
        {
          "output_type": "stream",
          "name": "stdout",
          "text": [
            "Iteration: 3, Best so far: 2.495\n"
          ]
        },
        {
          "output_type": "stream",
          "name": "stdout",
          "text": [
            "Iteration: 4, Best so far: 2.495\n"
          ]
        },
        {
          "output_type": "stream",
          "name": "stdout",
          "text": [
            "Iteration: 5, Best so far: 2.495\n"
          ]
        },
        {
          "output_type": "stream",
          "name": "stdout",
          "text": [
            "Iteration: 6, Best so far: 2.495\n"
          ]
        },
        {
          "output_type": "stream",
          "name": "stdout",
          "text": [
            "Iteration: 7, Best so far: 2.495\n"
          ]
        },
        {
          "output_type": "stream",
          "name": "stdout",
          "text": [
            "Iteration: 8, Best so far: 2.495\n"
          ]
        },
        {
          "output_type": "stream",
          "name": "stdout",
          "text": [
            "Iteration: 9, Best so far: 2.495\n"
          ]
        },
        {
          "output_type": "stream",
          "name": "stdout",
          "text": [
            "Iteration: 10, Best so far: 2.495\n"
          ]
        },
        {
          "output_type": "stream",
          "name": "stdout",
          "text": [
            "Iteration: 11, Best so far: 2.495\n"
          ]
        },
        {
          "output_type": "stream",
          "name": "stdout",
          "text": [
            "Iteration: 12, Best so far: 2.495\n"
          ]
        },
        {
          "output_type": "stream",
          "name": "stdout",
          "text": [
            "Iteration: 13, Best so far: 2.495\n"
          ]
        },
        {
          "output_type": "stream",
          "name": "stdout",
          "text": [
            "Iteration: 14, Best so far: 2.495\n"
          ]
        },
        {
          "output_type": "stream",
          "name": "stdout",
          "text": [
            "Iteration: 15, Best so far: 2.495\n"
          ]
        },
        {
          "output_type": "stream",
          "name": "stdout",
          "text": [
            "Iteration: 16, Best so far: 2.495\n"
          ]
        },
        {
          "output_type": "stream",
          "name": "stdout",
          "text": [
            "Iteration: 17, Best so far: 2.495\n"
          ]
        },
        {
          "output_type": "stream",
          "name": "stdout",
          "text": [
            "Iteration: 18, Best so far: 0.935\n"
          ]
        },
        {
          "output_type": "stream",
          "name": "stdout",
          "text": [
            "Iteration: 19, Best so far: 0.935\n"
          ]
        },
        {
          "output_type": "stream",
          "name": "stdout",
          "text": [
            "Iteration: 20, Best so far: 0.935\n"
          ]
        },
        {
          "output_type": "stream",
          "name": "stdout",
          "text": [
            "Iteration: 21, Best so far: 0.469\n"
          ]
        },
        {
          "output_type": "stream",
          "name": "stdout",
          "text": [
            "Iteration: 22, Best so far: 0.469\n"
          ]
        },
        {
          "output_type": "stream",
          "name": "stdout",
          "text": [
            "Iteration: 23, Best so far: 0.469\n"
          ]
        },
        {
          "output_type": "stream",
          "name": "stdout",
          "text": [
            "Iteration: 24, Best so far: 0.450\n"
          ]
        },
        {
          "output_type": "stream",
          "name": "stdout",
          "text": [
            "Iteration: 25, Best so far: 0.439\n"
          ]
        },
        {
          "output_type": "stream",
          "name": "stdout",
          "text": [
            "Iteration: 26, Best so far: 0.432\n"
          ]
        },
        {
          "output_type": "stream",
          "name": "stdout",
          "text": [
            "Iteration: 27, Best so far: 0.432\n"
          ]
        },
        {
          "output_type": "stream",
          "name": "stdout",
          "text": [
            "Iteration: 28, Best so far: 0.432\n"
          ]
        },
        {
          "output_type": "stream",
          "name": "stdout",
          "text": [
            "Iteration: 29, Best so far: 0.432\n"
          ]
        },
        {
          "output_type": "stream",
          "name": "stdout",
          "text": [
            "Iteration: 30, Best so far: 0.432\n"
          ]
        },
        {
          "output_type": "stream",
          "name": "stdout",
          "text": [
            "Iteration: 31, Best so far: 0.432\n"
          ]
        },
        {
          "output_type": "stream",
          "name": "stdout",
          "text": [
            "Iteration: 32, Best so far: 0.432\n"
          ]
        },
        {
          "output_type": "stream",
          "name": "stdout",
          "text": [
            "Iteration: 33, Best so far: 0.432\n"
          ]
        },
        {
          "output_type": "stream",
          "name": "stdout",
          "text": [
            "Iteration: 34, Best so far: 0.432\n"
          ]
        },
        {
          "output_type": "stream",
          "name": "stdout",
          "text": [
            "Iteration: 35, Best so far: 0.400\n"
          ]
        },
        {
          "output_type": "stream",
          "name": "stdout",
          "text": [
            "Iteration: 36, Best so far: 0.400\n"
          ]
        },
        {
          "output_type": "stream",
          "name": "stdout",
          "text": [
            "Iteration: 37, Best so far: 0.400\n"
          ]
        },
        {
          "output_type": "stream",
          "name": "stdout",
          "text": [
            "Iteration: 38, Best so far: 0.400\n"
          ]
        },
        {
          "output_type": "stream",
          "name": "stdout",
          "text": [
            "Iteration: 39, Best so far: 0.400\n"
          ]
        }
      ]
    },
    {
      "cell_type": "markdown",
      "metadata": {
        "originalKey": "7998635d-6750-4825-b93d-c7b61f74c3c5",
        "showInput": false,
        "customInput": null
      },
      "source": [
        "# Plot sparisty vs objective "
      ],
      "attachments": {}
    },
    {
      "cell_type": "code",
      "metadata": {
        "originalKey": "416ccd12-51a1-4bfe-9e10-436cd88ec6be",
        "showInput": true,
        "customInput": null,
        "collapsed": false,
        "requestMsgId": "416ccd12-51a1-4bfe-9e10-436cd88ec6be",
        "executionStartTime": 1686288195185,
        "executionStopTime": 1686288195216,
        "customOutput": null
      },
      "source": [
        "def nnz_exact(x, sparse_point):\n",
        "    return len(x) - (np.array(x) == np.array(sparse_point)).sum()\n",
        "\n",
        "    \n",
        "df = data.df\n",
        "df['L0_norm'] = df['arm_name'].apply(lambda d: nnz_exact(list(experiment.arms_by_name[d].parameters.values()), [0 for _ in range(aug_dim)]) )"
      ],
      "execution_count": 11,
      "outputs": []
    },
    {
      "cell_type": "code",
      "metadata": {
        "originalKey": "97b96822-7d7f-4a5d-8458-01ff890d2fde",
        "showInput": true,
        "customInput": null,
        "collapsed": false,
        "requestMsgId": "97b96822-7d7f-4a5d-8458-01ff890d2fde",
        "executionStartTime": 1686288196148,
        "executionStopTime": 1686288196157,
        "customOutput": null
      },
      "source": [
        "result_by_sparsity = {l: df[df.L0_norm <= l]['mean'].min() for l in range(1, aug_dim+1)}\n",
        "result_by_sparsity"
      ],
      "execution_count": 12,
      "outputs": [
        {
          "output_type": "execute_result",
          "data": {
            "text/plain": "{1: 5.50837634579411,\n 2: 0.44683255375296044,\n 3: 0.4321919928296593,\n 4: 0.40015694600429746,\n 5: 0.40015694600429746,\n 6: 0.40015694600429746,\n 7: 0.40015694600429746,\n 8: 0.40015694600429746}"
          },
          "metadata": {
            "bento_obj_id": "139680434845888"
          },
          "execution_count": 12
        }
      ]
    },
    {
      "cell_type": "code",
      "metadata": {
        "originalKey": "7193e2b0-e192-439a-b0d0-08a2029f64ca",
        "showInput": true,
        "customInput": null,
        "collapsed": false,
        "requestMsgId": "7193e2b0-e192-439a-b0d0-08a2029f64ca",
        "executionStartTime": 1686288219736,
        "executionStopTime": 1686288219978,
        "customOutput": null
      },
      "source": [
        "import matplotlib\n",
        "import matplotlib.pyplot as plt\n",
        "import numpy as np\n",
        "\n",
        "%matplotlib inline\n",
        "matplotlib.rcParams.update({\"font.size\": 16})\n",
        "\n",
        "fig, ax = plt.subplots(figsize=(8, 6))\n",
        "ax.plot(list(result_by_sparsity.keys()), list(result_by_sparsity.values()), '.b-', label=\"sebo\", markersize=10)\n",
        "ax.grid(True)\n",
        "ax.set_title(f\"Branin, D={aug_dim}\", fontsize=20)\n",
        "ax.set_xlabel(\"Number of active parameters\", fontsize=20)\n",
        "ax.set_ylabel(\"Best value found\", fontsize=20)\n",
        "# ax.legend(fontsize=18)\n",
        "plt.show()"
      ],
      "execution_count": 14,
      "outputs": [
        {
          "output_type": "display_data",
          "data": {
            "text/plain": "<Figure size 576x432 with 1 Axes>",
            "image/png": "[encoded data removed]"
          },
          "metadata": {
            "bento_obj_id": "139680435084880",
            "needs_background": "light"
          }
        }
      ]
    }
  ]
}
